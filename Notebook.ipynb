{
  "nbformat": 4,
  "nbformat_minor": 0,
  "metadata": {
    "colab": {
      "provenance": []
    },
    "kernelspec": {
      "name": "python3",
      "display_name": "Python 3"
    },
    "language_info": {
      "name": "python"
    }
  },
  "cells": [
    {
      "cell_type": "markdown",
      "source": [
        "# 🍛 Dapoer-AI: Agentic Chatbot untuk Rekomendasi Resep Masakan Indonesia\n",
        "\n",
        "Notebook ini mendemonstrasikan implementasi Agentic Chatbot berbasis Langchain-style architecture dengan integrasi LLM (Gemini) dan dataset resep masakan Indonesia.\n",
        "\n",
        "Tujuan utama chatbot ini adalah:\n",
        "- Memberikan rekomendasi resep masakan berdasarkan **nama**, **bahan**, atau **metode memasak**\n",
        "- Menyediakan opsi masakan yang **mudah** dibuat\n",
        "- Menggunakan teknik **RAG-like** (Retrieval-Augmented Generation) agar respons tetap kontekstual meskipun input tidak eksplisit\n",
        "\n",
        "Model yang digunakan: `Gemini 1.5 Flash`  \n",
        "Dataset: [Indonesian_Food_Recipes.csv](https://raw.githubusercontent.com/audreeynr/dapoer-ai/refs/heads/main/data/Indonesian_Food_Recipes.csv)\n"
      ],
      "metadata": {
        "id": "VlG61SP7OKyS"
      }
    },
    {
      "cell_type": "markdown",
      "source": [
        "## 1. Instalasi dan Import Library"
      ],
      "metadata": {
        "id": "Cq4dNE_XORT2"
      }
    },
    {
      "cell_type": "code",
      "execution_count": 1,
      "metadata": {
        "id": "-sa3mCLsJNq6"
      },
      "outputs": [],
      "source": [
        "!pip install -q google-generativeai"
      ]
    },
    {
      "cell_type": "code",
      "source": [
        "import pandas as pd\n",
        "import re\n",
        "import google.generativeai as genai\n",
        "import google.generativeai as gemini\n",
        "from google.colab import userdata"
      ],
      "metadata": {
        "id": "7T3F46ymJO7a"
      },
      "execution_count": 6,
      "outputs": []
    },
    {
      "cell_type": "markdown",
      "source": [
        "## 2. Konfigurasi API Gemini\n",
        "\n",
        "API key diambil dari environment Google Colab secara aman melalui `userdata`, kemudian digunakan untuk menginisialisasi model Gemini."
      ],
      "metadata": {
        "id": "72pMbtVuOWBd"
      }
    },
    {
      "cell_type": "code",
      "source": [
        "GOOGLE_API_KEY = userdata.get('GOOGLE_API_KEY')\n",
        "if not GOOGLE_API_KEY:\n",
        "    print(\"Error: GEMINI API key tidak ditemukan.\")\n",
        "    exit()\n",
        "\n",
        "gemini.configure(api_key=GOOGLE_API_KEY)\n",
        "model = gemini.GenerativeModel(model_name='gemini-1.5-flash-latest')"
      ],
      "metadata": {
        "id": "DqYehmcCJ70q"
      },
      "execution_count": 7,
      "outputs": []
    },
    {
      "cell_type": "markdown",
      "source": [
        "## 3. Load Dataset dan Pembersihan Data\n",
        "\n",
        "Dataset `Indonesian_Food_Recipes.csv` diambil dari GitHub. Selanjutnya dilakukan:\n",
        "- Menghapus baris kosong\n",
        "- Menghilangkan duplikasi"
      ],
      "metadata": {
        "id": "NLpjg9irOYpi"
      }
    },
    {
      "cell_type": "code",
      "source": [
        "CSV_FILE_PATH = 'https://raw.githubusercontent.com/audreeynr/dapoer-ai/refs/heads/main/data/Indonesian_Food_Recipes.csv'\n",
        "df = pd.read_csv(CSV_FILE_PATH)\n",
        "df_cleaned = df.dropna(subset=['Title', 'Ingredients', 'Steps']).drop_duplicates()"
      ],
      "metadata": {
        "id": "bn2G6r8fJ_c6"
      },
      "execution_count": 10,
      "outputs": []
    },
    {
      "cell_type": "markdown",
      "source": [
        "## 4. Normalisasi Teks\n",
        "\n",
        "Agar pencarian menjadi fleksibel, seluruh teks diubah menjadi huruf kecil dan dihapus tanda baca/tambahan karakter menggunakan regex."
      ],
      "metadata": {
        "id": "HwHOw5G3ObGZ"
      }
    },
    {
      "cell_type": "code",
      "source": [
        "def normalize_text(text):\n",
        "    if isinstance(text, str):\n",
        "        text = text.lower()\n",
        "        text = re.sub(r'[^a-z0-9\\s]', '', text)\n",
        "        text = re.sub(r'\\s+', ' ', text).strip()\n",
        "        return text\n",
        "    return text\n",
        "\n",
        "df_cleaned['Title_Normalized'] = df_cleaned['Title'].apply(normalize_text)\n",
        "df_cleaned['Ingredients_Normalized'] = df_cleaned['Ingredients'].apply(normalize_text)\n",
        "df_cleaned['Steps_Normalized'] = df_cleaned['Steps'].apply(normalize_text)\n"
      ],
      "metadata": {
        "id": "MwWEFj-bKBwN"
      },
      "execution_count": 11,
      "outputs": []
    },
    {
      "cell_type": "markdown",
      "source": [
        "## 5. Format Output Resep\n",
        "\n",
        "Fungsi `format_recipe()` menyusun hasil dalam bentuk yang lebih manusiawi dan mudah dibaca dengan markdown bullet dan struktur yang rapi."
      ],
      "metadata": {
        "id": "Ku11sys3O9u-"
      }
    },
    {
      "cell_type": "code",
      "source": [
        "def format_recipe(row):\n",
        "    bahan_raw = re.split(r'\\n|--|,', row['Ingredients'])\n",
        "    bahan_list = [b.strip().capitalize() for b in bahan_raw if b.strip()]\n",
        "    bahan_md = \"\\n\".join([f\"- {b}\" for b in bahan_list])\n",
        "    langkah_md = row['Steps'].strip()\n",
        "    return f\"\"\"🍽 *{row['Title']}*\n",
        "\n",
        "*Bahan-bahan:*\n",
        "{bahan_md}\n",
        "\n",
        "*Langkah Memasak:*\n",
        "{langkah_md}\"\"\""
      ],
      "metadata": {
        "id": "b-4zqChpKE0N"
      },
      "execution_count": 12,
      "outputs": []
    },
    {
      "cell_type": "markdown",
      "source": [
        "## 6. Fungsi Utama Agentic Chatbot\n",
        "\n",
        "Fungsi `handle_user_query()` bertugas mendeteksi niat user dan menjalankan salah satu dari 5 tools berikut:\n",
        "\n",
        "1. **Tool 1**: Pencarian berdasarkan nama resep\n",
        "2. **Tool 2**: Pencarian berdasarkan bahan\n",
        "3. **Tool 3**: Pencarian berdasarkan metode memasak\n",
        "4. **Tool 4**: Filter resep mudah (steps < 300 karakter)\n",
        "5. **Tool 5**: Retrieval-Augmented Generation (RAG-like) menggunakan LLM Gemini\n"
      ],
      "metadata": {
        "id": "RIJ7CRmDPAya"
      }
    },
    {
      "cell_type": "code",
      "source": [
        "def handle_user_query(prompt, model):\n",
        "    prompt_lower = normalize_text(prompt)\n",
        "\n",
        "    # Tool 1: Cari berdasarkan nama masakan\n",
        "    match_title = df_cleaned[df_cleaned['Title_Normalized'].str.contains(prompt_lower)]\n",
        "    if not match_title.empty:\n",
        "        return format_recipe(match_title.iloc[0])\n",
        "\n",
        "    # Tool 2: Cari berdasarkan bahan\n",
        "    match_bahan = df_cleaned[df_cleaned['Ingredients_Normalized'].str.contains(prompt_lower)]\n",
        "    if not match_bahan.empty:\n",
        "        hasil = match_bahan.head(5)['Title'].tolist()\n",
        "        return \"Masakan yang menggunakan bahan tersebut:\\n- \" + \"\\n- \".join(hasil)\n",
        "\n",
        "    # Tool 3: Cari berdasarkan metode masak\n",
        "    for metode in ['goreng', 'panggang', 'rebus', 'kukus']:\n",
        "        if metode in prompt_lower:\n",
        "            cocok = df_cleaned[df_cleaned['Steps_Normalized'].str.contains(metode)]\n",
        "            if not cocok.empty:\n",
        "                hasil = cocok.head(5)['Title'].tolist()\n",
        "                return f\"Masakan yang dimasak dengan cara {metode}:\\n- \" + \"\\n- \".join(hasil)\n",
        "\n",
        "    # Tool 4: Filter kesulitan\n",
        "    if \"mudah\" in prompt_lower or \"pemula\" in prompt_lower:\n",
        "        hasil = df_cleaned[df_cleaned['Steps'].str.len() < 300].head(5)['Title'].tolist()\n",
        "        return \"Rekomendasi masakan mudah:\\n- \" + \"\\n- \".join(hasil)\n",
        "\n",
        "    # Tool 5: RAG-like (dengan prompt masukan)\n",
        "    docs = \"\\n\\n\".join([\n",
        "        f\"{row['Title']}:\\nBahan: {row['Ingredients']}\\nLangkah: {row['Steps']}\"\n",
        "        for _, row in df_cleaned.sample(5, random_state=42).iterrows()\n",
        "    ])\n",
        "    full_prompt = f\"\"\"\n",
        "Berikut beberapa resep masakan Indonesia:\n",
        "\n",
        "{docs}\n",
        "\n",
        "Gunakan referensi di atas untuk menjawab pertanyaan berikut:\n",
        "{prompt}\n",
        "\"\"\"\n",
        "    response = model.generate_content(full_prompt)\n",
        "    return response.text"
      ],
      "metadata": {
        "id": "ZhBsM404KFs5"
      },
      "execution_count": 16,
      "outputs": []
    },
    {
      "cell_type": "markdown",
      "source": [
        "## 7. Interaksi Langsung dengan Chatbot\n",
        "\n",
        "Kode berikut akan membuka sesi interaktif di mana pengguna bisa bertanya tentang resep makanan, dan chatbot akan merespons secara dinamis menggunakan tool yang relevan."
      ],
      "metadata": {
        "id": "Y2l0lrulPDn4"
      }
    },
    {
      "cell_type": "code",
      "source": [
        "while True:\n",
        "    user_input = input(\"Tanyakan resep, bahan hingga ide masakan (atau ketik 'exit'): \")\n",
        "    if user_input.lower() == 'exit':\n",
        "        break\n",
        "    print(\"\\n\" + handle_user_query(user_input, model) + \"\\n\" + \"=\"*60 + \"\\n\")"
      ],
      "metadata": {
        "colab": {
          "base_uri": "https://localhost:8080/",
          "height": 505
        },
        "id": "rcbtvlxzM3nT",
        "outputId": "fc559b78-d736-437a-d968-a08c0442262e"
      },
      "execution_count": 22,
      "outputs": [
        {
          "name": "stdout",
          "output_type": "stream",
          "text": [
            "Tanyakan resep, bahan hingga ide masakan (atau ketik 'exit'): aku ingin makanan bergizi, ada ide?\n",
            "\n",
            "Berdasarkan resep-resep di atas,  untuk mendapatkan makanan bergizi, saya sarankan kombinasi beberapa resep atau memodifikasi resep yang ada:\n",
            "\n",
            "**Ide 1 (Kombinasi):**\n",
            "\n",
            "* **Nasi Biryani (modifikasi):**  Meskipun menggunakan daging kambing,  Anda bisa mengurangi jumlahnya dan menambahkan sayuran seperti wortel, buncis, atau kacang polong ke dalam nasi biryani untuk meningkatkan serat dan nutrisi.  Penggunaan beras basmati juga lebih baik daripada beras biasa.\n",
            "* **Salmon Salad ala Pay:**  Salad ini sudah cukup bergizi karena mengandung protein dari salmon, sayuran hijau (bayam), dan beberapa sayuran lainnya.  Anda bisa menambahkan lebih banyak sayuran seperti selada, mentimun, atau paprika untuk menambah variasi nutrisi.\n",
            "\n",
            "Kombinasi ini memberikan sumber protein (daging kambing/salmon), karbohidrat kompleks (nasi basmati), dan berbagai vitamin serta mineral dari sayuran.\n",
            "\n",
            "\n",
            "**Ide 2 (Modifikasi Soto Betawi):**\n",
            "\n",
            "* **Soto Betawi (modifikasi):** Soto Betawi yang asli sudah cukup bergizi karena mengandung protein dari daging sapi dan beberapa rempah.  Untuk membuatnya lebih bergizi lagi, tambahkan sayuran seperti tomat, wortel, atau kentang ke dalam kuahnya.  Kurangi sedikit penggunaan santan untuk menurunkan kadar lemak.  Tambahkan juga sayuran hijau seperti daun bawang atau seledri sebagai garnish.\n",
            "\n",
            "**Ide 3 (Menu Seimbang):**\n",
            "\n",
            "* **Mangut Lele (porsi kecil):** Mangut lele menyediakan protein dari lele.  Namun, karena tinggi santan,  konsumsinya perlu dikontrol.\n",
            "* **Telur Dadar Minyak Wijen:**  Sebagai sumber protein tambahan, dan minyak wijen memberikan asam lemak tak jenuh.\n",
            "* **Sayuran:** Tambahkan sayuran segar seperti kangkung, bayam, atau tumisan sayuran lainnya untuk melengkapi menu dan meningkatkan serat.\n",
            "\n",
            "**Catatan Penting:**  Resep-resep di atas kurang detail dalam informasi nilai gizi. Untuk memastikan keseimbangan gizi yang optimal,  pertimbangkan untuk menambahkan variasi lain seperti buah-buahan dan mengonsumsi makanan dalam porsi yang sesuai dengan kebutuhan kalori harian Anda.  Konsultasikan dengan ahli gizi untuk rencana makan yang lebih tepat dan sesuai dengan kebutuhan individual Anda.\n",
            "\n",
            "============================================================\n",
            "\n",
            "Tanyakan resep, bahan hingga ide masakan (atau ketik 'exit'): exit\n"
          ]
        }
      ]
    }
  ]
}